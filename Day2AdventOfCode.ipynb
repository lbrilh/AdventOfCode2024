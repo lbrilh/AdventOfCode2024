{
  "nbformat": 4,
  "nbformat_minor": 0,
  "metadata": {
    "colab": {
      "provenance": [],
      "authorship_tag": "ABX9TyNK//w+azY0KHmcthJ9VpXk",
      "include_colab_link": true
    },
    "kernelspec": {
      "name": "python3",
      "display_name": "Python 3"
    },
    "language_info": {
      "name": "python"
    }
  },
  "cells": [
    {
      "cell_type": "markdown",
      "metadata": {
        "id": "view-in-github",
        "colab_type": "text"
      },
      "source": [
        "<a href=\"https://colab.research.google.com/github/lbrilh/AdventOfCode2024/blob/main/Day2AdventOfCode.ipynb\" target=\"_parent\"><img src=\"https://colab.research.google.com/assets/colab-badge.svg\" alt=\"Open In Colab\"/></a>"
      ]
    },
    {
      "cell_type": "code",
      "execution_count": 4,
      "metadata": {
        "id": "9DxLM1_hWeVv"
      },
      "outputs": [],
      "source": [
        "import pandas as pd\n",
        "import numpy as np\n",
        "\n",
        "with open('/content/input.txt') as f:\n",
        "    data = [line.strip().split(' ') for line in f]"
      ]
    },
    {
      "cell_type": "code",
      "source": [
        "# Part 1: Count number of correct reports\n",
        "part1Counter = 0\n",
        "\n",
        "def is_correct(candidate):\n",
        "  array = np.array(candidate, dtype = \"float\")\n",
        "  dif = np.diff(array)\n",
        "  if np.all(np.sign(dif[0]) == np.sign(dif)):\n",
        "    if np.abs(dif).max() <= 3 and np.abs(dif).min() >= 1:\n",
        "      return True\n",
        "  return False\n",
        "\n",
        "# Store for part 2 invalid reports\n",
        "invalid = []\n",
        "for row in range(len(data)):\n",
        "  if is_correct(data[row]):\n",
        "    part1Counter += 1\n",
        "  else:\n",
        "    invalid.append(data[row])\n",
        "\n",
        "print(\"Number of correct reports:\", part1Counter)"
      ],
      "metadata": {
        "colab": {
          "base_uri": "https://localhost:8080/"
        },
        "id": "tKGojXWIX3Ir",
        "outputId": "9d91b343-1303-46ae-a475-a7c667df654c"
      },
      "execution_count": 24,
      "outputs": [
        {
          "output_type": "stream",
          "name": "stdout",
          "text": [
            "Number of correct reports: 279\n"
          ]
        }
      ]
    },
    {
      "cell_type": "code",
      "source": [
        "# Part 2: Count number of correct reports if one bad entry is removed\n",
        "part2Counter = 0\n",
        "for candidate in invalid:\n",
        "  for i in range(len(candidate)):\n",
        "    copy = candidate.copy()\n",
        "    copy.pop(i)\n",
        "    if is_correct(copy):\n",
        "      part2Counter += 1\n",
        "      break\n",
        "\n",
        "print(\"Number of correct reports:\", part1Counter + part2Counter)"
      ],
      "metadata": {
        "colab": {
          "base_uri": "https://localhost:8080/"
        },
        "id": "k1WmAVapYgq4",
        "outputId": "adc7d4c1-0537-49b0-f18a-9833c1c67656"
      },
      "execution_count": 25,
      "outputs": [
        {
          "output_type": "stream",
          "name": "stdout",
          "text": [
            "Number of correct reports: 343\n"
          ]
        }
      ]
    }
  ]
}