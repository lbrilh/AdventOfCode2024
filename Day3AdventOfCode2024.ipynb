{
  "nbformat": 4,
  "nbformat_minor": 0,
  "metadata": {
    "colab": {
      "provenance": [],
      "authorship_tag": "ABX9TyNRnVaVk+rYor+gRnf91ulO",
      "include_colab_link": true
    },
    "kernelspec": {
      "name": "python3",
      "display_name": "Python 3"
    },
    "language_info": {
      "name": "python"
    }
  },
  "cells": [
    {
      "cell_type": "markdown",
      "metadata": {
        "id": "view-in-github",
        "colab_type": "text"
      },
      "source": [
        "<a href=\"https://colab.research.google.com/github/lbrilh/AdventOfCode2024/blob/main/Day3AdventOfCode2024.ipynb\" target=\"_parent\"><img src=\"https://colab.research.google.com/assets/colab-badge.svg\" alt=\"Open In Colab\"/></a>"
      ]
    },
    {
      "cell_type": "code",
      "execution_count": 19,
      "metadata": {
        "id": "3hv0YWisK05O"
      },
      "outputs": [],
      "source": [
        "import numpy as np\n",
        "import re\n",
        "\n",
        "with open('/content/input.txt') as f:\n",
        "    data = [line for line in f]"
      ]
    },
    {
      "cell_type": "code",
      "source": [
        "# Part 1: Use regex to find valid pairs\n",
        "\n",
        "def multiplication_sum(data):\n",
        "  pattern = r\"mul\\((\\d{1,3}),\\s*(\\d{1,3})\\)\"\n",
        "\n",
        "  matches = []\n",
        "\n",
        "  for line in data:\n",
        "    matches = matches + re.findall(pattern, line)\n",
        "\n",
        "  result = sum([int(pair[0]) * int(pair[1]) for pair in matches])\n",
        "\n",
        "  return result\n",
        "\n",
        "print(\"Result:\", multiplication_sum(data))"
      ],
      "metadata": {
        "colab": {
          "base_uri": "https://localhost:8080/"
        },
        "id": "_-ZcXxEdLgrK",
        "outputId": "99025ac7-6579-47d1-cf1d-ce81835a6e14"
      },
      "execution_count": 79,
      "outputs": [
        {
          "output_type": "stream",
          "name": "stdout",
          "text": [
            "Result: 161085926\n"
          ]
        }
      ]
    },
    {
      "cell_type": "code",
      "source": [
        "# Part 2: Split string by \"don't\"\n",
        "string = \"\".join(data)\n",
        "\n",
        "splitted = string.split(\"don't()\")\n",
        "\n",
        "# Default is do()\n",
        "finalResult = multiplication_sum([splitted[0]])\n",
        "\n",
        "for part in splitted[1 : ]:\n",
        "  df = part.split(\"do()\")\n",
        "  # Include only activated values\n",
        "  if len(df) > 1:\n",
        "    finalResult += sum([multiplication_sum([df[i]]) for i in range(1, len(df))])\n",
        "\n",
        "print(\"Sum if only activated: \", finalResult)"
      ],
      "metadata": {
        "colab": {
          "base_uri": "https://localhost:8080/"
        },
        "id": "zUzIgX1ZQNj_",
        "outputId": "8caf8e1c-3cde-4a7d-a7fe-7f33a694a4e1"
      },
      "execution_count": 87,
      "outputs": [
        {
          "output_type": "stream",
          "name": "stdout",
          "text": [
            "Sum if only activated:  82045421\n"
          ]
        }
      ]
    }
  ]
}