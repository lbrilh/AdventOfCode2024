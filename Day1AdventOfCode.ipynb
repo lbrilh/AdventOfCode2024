{
  "nbformat": 4,
  "nbformat_minor": 0,
  "metadata": {
    "colab": {
      "provenance": [],
      "authorship_tag": "ABX9TyNTKYRiN/Z3zO4dacXk5JhZ",
      "include_colab_link": true
    },
    "kernelspec": {
      "name": "python3",
      "display_name": "Python 3"
    },
    "language_info": {
      "name": "python"
    }
  },
  "cells": [
    {
      "cell_type": "markdown",
      "metadata": {
        "id": "view-in-github",
        "colab_type": "text"
      },
      "source": [
        "<a href=\"https://colab.research.google.com/github/lbrilh/AdventOfCode2024/blob/main/Day1AdventOfCode.ipynb\" target=\"_parent\"><img src=\"https://colab.research.google.com/assets/colab-badge.svg\" alt=\"Open In Colab\"/></a>"
      ]
    },
    {
      "cell_type": "code",
      "execution_count": 1,
      "metadata": {
        "id": "usooZUseoWj5"
      },
      "outputs": [],
      "source": [
        "import numpy as np"
      ]
    },
    {
      "cell_type": "code",
      "source": [
        "data = np.loadtxt(\"/content/input.txt\")"
      ],
      "metadata": {
        "id": "cE3EYDZ6oYz1"
      },
      "execution_count": 10,
      "outputs": []
    },
    {
      "cell_type": "code",
      "source": [
        "# Part 1: Calculate distance between arrays\n",
        "array1 = data[:, 0]\n",
        "array2 = data[:, 1]\n",
        "array1.sort()\n",
        "array2.sort()\n",
        "diff = np.sum(np.abs(array1 - array2))\n",
        "print(\"Distance:\", diff)"
      ],
      "metadata": {
        "colab": {
          "base_uri": "https://localhost:8080/"
        },
        "id": "M8e9q-WSpski",
        "outputId": "45e3516b-42b1-4d7b-e2a9-437579da84c0"
      },
      "execution_count": 39,
      "outputs": [
        {
          "output_type": "stream",
          "name": "stdout",
          "text": [
            "Distance: 1722302.0\n"
          ]
        }
      ]
    },
    {
      "cell_type": "code",
      "source": [
        "# Part 2: Calculate similarity score\n",
        "val, freq = np.unique(array2.reshape(1,1000), return_counts = True)\n",
        "map = dict(zip(val, freq))\n",
        "uniqueVals = np.unique(array1.reshape(1,1000))\n",
        "similarity = 0\n",
        "for val in uniqueVals:\n",
        "  if val in map:\n",
        "    similarity += val*map[val]\n",
        "print(\"Similarity Score:\", similarity)"
      ],
      "metadata": {
        "colab": {
          "base_uri": "https://localhost:8080/"
        },
        "id": "GKbHcas5r0FB",
        "outputId": "50807ad8-d75c-4682-d736-c4e5232475fe"
      },
      "execution_count": 40,
      "outputs": [
        {
          "output_type": "stream",
          "name": "stdout",
          "text": [
            "Similarity Score: 20373490.0\n"
          ]
        }
      ]
    }
  ]
}